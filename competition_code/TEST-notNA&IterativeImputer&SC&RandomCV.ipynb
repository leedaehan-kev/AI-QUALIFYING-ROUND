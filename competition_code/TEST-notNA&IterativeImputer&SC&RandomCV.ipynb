{
 "cells": [
  {
   "cell_type": "code",
   "execution_count": null,
   "id": "8c97a276",
   "metadata": {},
   "outputs": [],
   "source": [
    "import numpy as np\n",
    "import pandas as pd\n",
    "import lightgbm as lgb\n",
    "import warnings\n",
    "import time\n",
    "from sklearn.decomposition import PCA\n",
    "from sklearn.preprocessing import Normalizer\n",
    "from sklearn.model_selection import GridSearchCV\n",
    "from sklearn.model_selection import cross_val_score\n",
    "from sklearn.model_selection import RandomizedSearchCV\n",
    "from sklearn.preprocessing import StandardScaler\n",
    "from sklearn.experimental import enable_iterative_imputer\n",
    "from sklearn.impute import IterativeImputer\n",
    "\n",
    "warnings.filterwarnings('ignore')"
   ]
  },
  {
   "cell_type": "code",
   "execution_count": null,
   "id": "47d4740c",
   "metadata": {},
   "outputs": [],
   "source": [
    "train  = pd.read_csv('competition_data/train.csv')\n",
    "test  = pd.read_csv('competition_data/test.csv')\n",
    "pd.set_option('display.max_rows', 1000)\n",
    "pd.set_option('display.max_colwidth', 100)\n",
    "pd.set_option('display.max_columns', 100)"
   ]
  },
  {
   "cell_type": "code",
   "execution_count": null,
   "id": "0db9012b",
   "metadata": {
    "scrolled": true
   },
   "outputs": [],
   "source": [
    "train"
   ]
  },
  {
   "cell_type": "code",
   "execution_count": null,
   "id": "9fb40465",
   "metadata": {
    "scrolled": true
   },
   "outputs": [],
   "source": [
    "train.info()"
   ]
  },
  {
   "cell_type": "code",
   "execution_count": null,
   "id": "e2904602",
   "metadata": {},
   "outputs": [],
   "source": [
    "test.info()"
   ]
  },
  {
   "cell_type": "code",
   "execution_count": null,
   "id": "fc2e1772",
   "metadata": {},
   "outputs": [],
   "source": [
    "train = train.drop(['index', 'country'],axis = 1)\n",
    "test =test.drop(['index', 'country'],axis = 1)"
   ]
  },
  {
   "cell_type": "code",
   "execution_count": null,
   "id": "bd5954a7",
   "metadata": {},
   "outputs": [],
   "source": [
    "train.info()"
   ]
  },
  {
   "cell_type": "code",
   "execution_count": null,
   "id": "7202972a",
   "metadata": {},
   "outputs": [],
   "source": [
    "train.isna().sum()"
   ]
  },
  {
   "cell_type": "code",
   "execution_count": null,
   "id": "6f4cde90",
   "metadata": {},
   "outputs": [],
   "source": [
    "#train을 target과 feature로 나눠줍니다.\n",
    "#train_ = train.dropna(axis=0)\n",
    "train_= IterativeImputer().fit_transform(train.iloc[:, :-1])\n",
    "train_= pd.DataFrame(train_)\n",
    "test= IterativeImputer().fit_transform(test)\n",
    "test= pd.DataFrame(test)\n",
    "#train_ = train"
   ]
  },
  {
   "cell_type": "code",
   "execution_count": null,
   "id": "079fc07b",
   "metadata": {
    "scrolled": true
   },
   "outputs": [],
   "source": [
    "train_.info()"
   ]
  },
  {
   "cell_type": "code",
   "execution_count": null,
   "id": "e343a683",
   "metadata": {},
   "outputs": [],
   "source": []
  },
  {
   "cell_type": "code",
   "execution_count": null,
   "id": "a20fc8f8",
   "metadata": {},
   "outputs": [],
   "source": [
    "norm=Normalizer()\n",
    "sc=StandardScaler()\n",
    "train_S = sc.fit_transform(train_)\n",
    "train_S = pd.DataFrame(train_S)\n",
    "test=sc.transform(test) \n",
    "test = pd.DataFrame(test)"
   ]
  },
  {
   "cell_type": "code",
   "execution_count": null,
   "id": "caaef5fb",
   "metadata": {},
   "outputs": [],
   "source": [
    "train_S.columns=['Q1','Q2','Q3','Q4','Q5','Q6','Q7','Q8'\n",
    "               ,'Q9','Q10','Q11','Q12','Q13','Q14','Q15','Q16'\n",
    "               ,'Q17','Q18','Q19','Q20','Q21','Q22','Q23','Q24'\n",
    "               ,'Q25','Q26','introelapse','testelapse','surveyelapse'\n",
    "                ,'TIPI1','TIPI2','TIPI3'\n",
    "               ,'TIPI4','TIPI5','TIPI6','TIPI7','TIPI8','TIPI9','TIPI10'\n",
    "                ,'VCL1','VCL2','VCL3','VCL4','VCL5','VCL6','VCL7'\n",
    "               ,'VCL8','VCL9','VCL10','VCL11','VCL12','VCL13','VCL14'\n",
    "               ,'VCL15','VCL16','education','urban','gender','engnat','age'\n",
    "               ,'hand','religion','orientation','voted','married','familysize'\n",
    "                ,'ASD']\n"
   ]
  },
  {
   "cell_type": "code",
   "execution_count": null,
   "id": "58788afb",
   "metadata": {},
   "outputs": [],
   "source": [
    "train_S"
   ]
  },
  {
   "cell_type": "code",
   "execution_count": null,
   "id": "ca7fb87f",
   "metadata": {},
   "outputs": [],
   "source": [
    "train_S['nerdiness']=train['nerdiness']"
   ]
  },
  {
   "cell_type": "code",
   "execution_count": null,
   "id": "5c0b872d",
   "metadata": {},
   "outputs": [],
   "source": [
    "train_x = train_S.drop(['nerdiness'],axis=1)\n",
    "train_y = train_S['nerdiness']"
   ]
  },
  {
   "cell_type": "code",
   "execution_count": null,
   "id": "a08a3a6a",
   "metadata": {},
   "outputs": [],
   "source": [
    "start_time=time.time()\n",
    "lgb= lgb.LGBMClassifier(\n",
    "            n_estimators=1000\n",
    "        )\n",
    "parametes= {\n",
    "    'num_leaves':[20,40,60,80,100],'min_child_samples':[5,10,15],\n",
    "    'max_depth':[-1,5,10,20],'learning_rate':[0.05,0.1,0.2],'reg_alpha':[0,0.01,0.03]\n",
    "}\n",
    "clf=RandomizedSearchCV(lgb,parametes,scoring='roc_auc',n_iter=100)\n",
    "clf.fit(X=train_x,y=train_y)\n",
    "print(clf.best_params_)\n",
    "end_time=time.time()\n",
    "print('소요 시간 : ')\n",
    "print(end_time-start_time)"
   ]
  },
  {
   "cell_type": "code",
   "execution_count": null,
   "id": "a53079c6",
   "metadata": {},
   "outputs": [],
   "source": [
    "# 재학습 위한 공간"
   ]
  },
  {
   "cell_type": "code",
   "execution_count": null,
   "id": "b166187c",
   "metadata": {},
   "outputs": [],
   "source": [
    "#lgbm_clf.fit(train_x, train_y)\n",
    "lgbm_pred = clf.predict(test)"
   ]
  },
  {
   "cell_type": "code",
   "execution_count": null,
   "id": "1a830bc1",
   "metadata": {},
   "outputs": [],
   "source": [
    "submission = pd.read_csv('competition_data/sample_submission.csv')\n",
    "\n",
    "submission"
   ]
  },
  {
   "cell_type": "code",
   "execution_count": null,
   "id": "2c4f468c",
   "metadata": {},
   "outputs": [],
   "source": [
    "submission[\"nerdiness\"] = lgbm_pred"
   ]
  },
  {
   "cell_type": "code",
   "execution_count": null,
   "id": "13502c59",
   "metadata": {},
   "outputs": [],
   "source": [
    "submission"
   ]
  },
  {
   "cell_type": "code",
   "execution_count": null,
   "id": "ff608b1c",
   "metadata": {},
   "outputs": [],
   "source": [
    "submission.to_csv(\"baseline_notNA-iterative-withSC-Random1000-test2.csv\", index = False)"
   ]
  },
  {
   "cell_type": "code",
   "execution_count": null,
   "id": "0ef5a91b",
   "metadata": {},
   "outputs": [],
   "source": []
  }
 ],
 "metadata": {
  "kernelspec": {
   "display_name": "kev",
   "language": "python",
   "name": "kev"
  },
  "language_info": {
   "codemirror_mode": {
    "name": "ipython",
    "version": 3
   },
   "file_extension": ".py",
   "mimetype": "text/x-python",
   "name": "python",
   "nbconvert_exporter": "python",
   "pygments_lexer": "ipython3",
   "version": "3.7.11"
  }
 },
 "nbformat": 4,
 "nbformat_minor": 5
}
